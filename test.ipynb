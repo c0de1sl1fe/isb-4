{
 "cells": [
  {
   "attachments": {},
   "cell_type": "markdown",
   "metadata": {},
   "source": [
    "My hash and staf\n",
    "\n",
    "|7|\n",
    "\n",
    "f56ab81d14e7c55304dff878c3f61f2d96c8ef1f56aff163320e67df\n",
    "\n",
    "|VISA|Дебетовая|Альфа-банк|\n",
    "\n",
    "7819|sha3_224|"
   ]
  },
  {
   "cell_type": "code",
   "execution_count": 1,
   "metadata": {},
   "outputs": [
    {
     "name": "stdout",
     "output_type": "stream",
     "text": [
      "[477932, 427714, 431417, 458450, 475791, 477714, 477964, 479087, 419540, 426101, 428905, 428906, 458411, 458443, 415482]\n"
     ]
    }
   ],
   "source": [
    "array = [477932, 427714, 431417, 458450, 475791, 477714, 477964, 479087, 419540, 426101, 428905,\n",
    "         428906, 458411, 458443, 415482]\n",
    "\n",
    "print(array)\n"
   ]
  }
 ],
 "metadata": {
  "kernelspec": {
   "display_name": ".venv",
   "language": "python",
   "name": "python3"
  },
  "language_info": {
   "codemirror_mode": {
    "name": "ipython",
    "version": 3
   },
   "file_extension": ".py",
   "mimetype": "text/x-python",
   "name": "python",
   "nbconvert_exporter": "python",
   "pygments_lexer": "ipython3",
   "version": "3.10.7"
  },
  "orig_nbformat": 4
 },
 "nbformat": 4,
 "nbformat_minor": 2
}

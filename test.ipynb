{
 "cells": [
  {
   "attachments": {},
   "cell_type": "markdown",
   "metadata": {},
   "source": [
    "My hash and staf\n",
    "\n",
    "|7|\n",
    "\n",
    "f56ab81d14e7c55304dff878c3f61f2d96c8ef1f56aff163320e67df\n",
    "\n",
    "|VISA|Дебетовая|Альфа-банк|\n",
    "\n",
    "7819|sha3_224|"
   ]
  },
  {
   "cell_type": "code",
   "execution_count": 1,
   "metadata": {},
   "outputs": [
    {
     "name": "stdout",
     "output_type": "stream",
     "text": [
      "[477932, 427714, 431417, 458450, 475791, 477714, 477964, 479087, 419540, 426101, 428905, 428906, 458411, 458443, 415482]\n",
      "15\n"
     ]
    }
   ],
   "source": [
    "array = [477932, 427714, 431417, 458450, 475791, 477714, 477964, 479087, 419540, 426101, 428905,\n",
    "         428906, 458411, 458443, 415482]\n",
    "\n",
    "print(array)\n",
    "print(len(array\n",
    "          ))\n"
   ]
  },
  {
   "cell_type": "code",
   "execution_count": 2,
   "metadata": {},
   "outputs": [
    {
     "data": {
      "text/plain": [
       "1"
      ]
     },
     "execution_count": 2,
     "metadata": {},
     "output_type": "execute_result"
    }
   ],
   "source": [
    "test = {1: [1,2,3]}\n",
    "test[1][0]"
   ]
  },
  {
   "cell_type": "code",
   "execution_count": 5,
   "metadata": {},
   "outputs": [
    {
     "name": "stdout",
     "output_type": "stream",
     "text": [
      "{}\n"
     ]
    }
   ],
   "source": [
    "import json\n",
    "settings = {\n",
    "    \"defaultHash\": \"f56ab81d14e7c55304dff878c3f61f2d96c8ef1f56aff163320e67df\",\n",
    "    \"bins\": [477932, 427714, 431417, 458450, 475791, 477714, 477964, 479087, 419540, 426101, 428905,\n",
    "             428906, 458411, 458443, 415482],\n",
    "    1: {2: 3}\n",
    "\n",
    "}\n",
    "settings[1].clear()\n",
    "print(settings[1])\n"
   ]
  },
  {
   "cell_type": "code",
   "execution_count": 2,
   "metadata": {},
   "outputs": [
    {
     "name": "stdout",
     "output_type": "stream",
     "text": [
      "!empty\n"
     ]
    }
   ],
   "source": [
    "a = {1:1}\n",
    "if(a):\n",
    "    print(\"!empty\")\n",
    "else:\n",
    "    print(\"empty\")\n"
   ]
  }
 ],
 "metadata": {
  "kernelspec": {
   "display_name": ".venv",
   "language": "python",
   "name": "python3"
  },
  "language_info": {
   "codemirror_mode": {
    "name": "ipython",
    "version": 3
   },
   "file_extension": ".py",
   "mimetype": "text/x-python",
   "name": "python",
   "nbconvert_exporter": "python",
   "pygments_lexer": "ipython3",
   "version": "3.10.7"
  },
  "orig_nbformat": 4
 },
 "nbformat": 4,
 "nbformat_minor": 2
}
